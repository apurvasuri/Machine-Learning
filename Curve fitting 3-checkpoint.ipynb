{
 "cells": [
  {
   "cell_type": "code",
   "execution_count": 3,
   "metadata": {},
   "outputs": [],
   "source": [
    "import math\n",
    "import numpy as np\n",
    "import matplotlib.pyplot as plt"
   ]
  },
  {
   "cell_type": "code",
   "execution_count": 4,
   "metadata": {},
   "outputs": [
    {
     "name": "stdout",
     "output_type": "stream",
     "text": [
      "[0.  0.1 0.2 0.3 0.4 0.5 0.6 0.7 0.8 0.9 1. ]\n"
     ]
    }
   ],
   "source": [
    "x = np.linspace(0,1,11)\n",
    "print(x)"
   ]
  },
  {
   "cell_type": "code",
   "execution_count": 5,
   "metadata": {},
   "outputs": [
    {
     "name": "stdout",
     "output_type": "stream",
     "text": [
      "[0.0, 0.5877852522924731, 0.9510565162951535, 0.9510565162951535, 0.5877852522924732, 1.2246467991473532e-16, -0.5877852522924734, -0.9510565162951535, -0.9510565162951536, -0.5877852522924734, -2.4492935982947064e-16]\n"
     ]
    }
   ],
   "source": [
    "t = [math.sin(i*2*math.pi) for i in x]\n",
    "print(t)"
   ]
  },
  {
   "cell_type": "code",
   "execution_count": 6,
   "metadata": {},
   "outputs": [
    {
     "data": {
      "text/plain": [
       "<matplotlib.collections.PathCollection at 0x2135e4949b0>"
      ]
     },
     "execution_count": 6,
     "metadata": {},
     "output_type": "execute_result"
    },
    {
     "data": {
      "image/png": "[encoded data removed]",
      "text/plain": [
       "<Figure size 432x288 with 1 Axes>"
      ]
     },
     "metadata": {},
     "output_type": "display_data"
    }
   ],
   "source": [
    "fig = plt.figure()\n",
    "fig.suptitle('graph')\n",
    "plt.scatter(x,t,marker='.')"
   ]
  },
  {
   "cell_type": "code",
   "execution_count": 7,
   "metadata": {},
   "outputs": [
    {
     "name": "stdout",
     "output_type": "stream",
     "text": [
      "[ 0.06259847 -0.00877613 -0.20452922 -0.08595662  0.06311731 -0.0081402\n",
      " -0.14331816 -0.05022488 -0.09650072 -0.21749622 -0.0189    ]\n"
     ]
    }
   ],
   "source": [
    "noise = np.random.normal(0,0.1,x.size)\n",
    "print(noise)"
   ]
  },
  {
   "cell_type": "code",
   "execution_count": 8,
   "metadata": {},
   "outputs": [
    {
     "name": "stdout",
     "output_type": "stream",
     "text": [
      "[ 0.06259847  0.57900913  0.74652729  0.8650999   0.65090256 -0.0081402\n",
      " -0.73110341 -1.00128139 -1.04755723 -0.80528147 -0.0189    ]\n"
     ]
    }
   ],
   "source": [
    "t = t+noise\n",
    "print(t)"
   ]
  },
  {
   "cell_type": "code",
   "execution_count": 9,
   "metadata": {},
   "outputs": [
    {
     "data": {
      "text/plain": [
       "<matplotlib.collections.PathCollection at 0x2135e52eef0>"
      ]
     },
     "execution_count": 9,
     "metadata": {},
     "output_type": "execute_result"
    },
    {
     "data": {
      "image/png": "[encoded data removed]",
      "text/plain": [
       "<Figure size 432x288 with 1 Axes>"
      ]
     },
     "metadata": {},
     "output_type": "display_data"
    }
   ],
   "source": [
    "plt.scatter(x,t,marker='.')"
   ]
  },
  {
   "cell_type": "code",
   "execution_count": 10,
   "metadata": {},
   "outputs": [],
   "source": [
    "n=len(x)\n",
    "sumx = sum(x)\n",
    "sumx2 = sum(x*x)\n",
    "sumx3 = sum(x*x*x)\n",
    "sumx4 = sum(x*x*x*x)\n",
    "sumx5 = sum(x*x*x*x*x)\n",
    "sumx6 = sum(x*x*x*x*x*x)\n",
    "sumx7 = sum(x*x*x*x*x*x*x)\n",
    "sumx8 = sum(x*x*x*x*x*x*x*x)\n",
    "sumx9 = sum(x*x*x*x*x*x*x*x*x)\n",
    "sumx10 = sum(x*x*x*x*x*x*x*x*x)\n",
    "sumx11 = sum(x*x*x*x*x*x*x*x*x*x*x)\n",
    "sumx12 = sum(x*x*x*x*x*x*x*x*x*x*x*x)\n",
    "sumx13 = sum(x*x*x*x*x*x*x*x*x*x*x*x*x)\n",
    "sumx14 = sum(x*x*x*x*x*x*x*x*x*x*x*x*x*x)\n",
    "sumx15 = sum(x*x*x*x*x*x*x*x*x*x*x*x*x*x*x)\n",
    "sumx16 = sum(x*x*x*x*x*x*x*x*x*x*x*x*x*x*x*x)\n",
    "sumx17 = sum(x*x*x*x*x*x*x*x*x*x*x*x*x*x*x*x*x)\n",
    "sumx18 = sum(x*x*x*x*x*x*x*x*x*x*x*x*x*x*x*x*x*x)"
   ]
  },
  {
   "cell_type": "code",
   "execution_count": 12,
   "metadata": {},
   "outputs": [],
   "source": [
    "sumt = sum(t)\n",
    "sumtx = sum(t*x)\n",
    "sumtx2 = sum(t*x*x)\n",
    "sumtx3 = sum(t*x*x*x)\n",
    "sumtx4 = sum(t*x*x*x*x)\n",
    "sumtx5 = sum(t*x*x*x*x*x)\n",
    "sumtx6 = sum(t*x*x*x*x*x*x)\n",
    "sumtx7 = sum(t*x*x*x*x*x*x*x)\n",
    "sumtx8 = sum(t*x*x*x*x*x*x*x*x)\n",
    "sumtx9 = sum(t*x*x*x*x*x*x*x*x*x)"
   ]
  },
  {
   "cell_type": "code",
   "execution_count": 15,
   "metadata": {},
   "outputs": [
    {
     "name": "stdout",
     "output_type": "stream",
     "text": [
      "[[ 0.87244782]\n",
      " [-1.14250826]\n",
      " [-1.01306273]\n",
      " [-0.87681079]\n",
      " [-0.73422942]\n",
      " [-0.57932775]\n",
      " [-0.38186829]\n",
      " [-0.03238942]\n",
      " [ 0.82315526]\n",
      " [ 3.24211215]]\n"
     ]
    }
   ],
   "source": [
    "A = np.array([[n,sumx,sumx2,sumx3,sumx4,sumx5,sumx6,sumx7,sumx8,sumx9],[sumx,sumx2,sumx3,sumx4,sumx5,sumx6,sumx7,sumx8,sumx9,sumx10],[sumx2,sumx3,sumx4,sumx5,sumx6,sumx7,sumx8,sumx9,sumx10,sumx11],[sumx3,sumx4,sumx5,sumx6,sumx7,sumx8,sumx9,sumx10,sumx11,sumx12],[sumx4,sumx5,sumx6,sumx7,sumx8,sumx9,sumx10,sumx11,sumx12,sumx13],[sumx5,sumx6,sumx7,sumx8,sumx9,sumx10,sumx11,sumx12,sumx13,sumx14],[sumx6,sumx7,sumx8,sumx9,sumx10,sumx11,sumx12,sumx13,sumx14,sumx15],[sumx7,sumx8,sumx9,sumx10,sumx11,sumx12,sumx13,sumx14,sumx15,sumx16],[sumx8,sumx9,sumx10,sumx11,sumx12,sumx13,sumx14,sumx15,sumx16,sumx17],[sumx9,sumx10,sumx11,sumx12,sumx13,sumx14,sumx15,sumx16,sumx17,sumx18]])\n",
    "B = np.array([[sumt],[sumtx],[sumtx2],[sumtx3],[sumtx4],[sumtx5],[sumtx6],[sumtx7],[sumtx8],[sumtx9]])\n",
    "\n",
    "\n",
    "W = np.matmul(np.linalg.inv(A),B);\n",
    "print(W)"
   ]
  },
  {
   "cell_type": "code",
   "execution_count": 16,
   "metadata": {},
   "outputs": [
    {
     "name": "stdout",
     "output_type": "stream",
     "text": [
      "[0.8724478224478014, 0.7471099689111664, 0.5950279369460301, 0.40732314026787686, 0.17228216772660798, -0.12233870091443805, -0.47957977750800057, -0.867420540623603, -1.1630661106535292, -1.0474308478729872, 0.17751858573831925]\n"
     ]
    }
   ],
   "source": [
    "t1 = [W[0][0] + W[1][0]*i + W[2][0]*i*i + W[3][0]*i*i*i + W[4][0]*i*i*i*i + W[5][0]*i*i*i*i*i + W[6][0]*i*i*i*i*i*i + W[7][0]*i*i*i*i*i*i*i + W[8][0]*i*i*i*i*i*i*i*i + W[9][0]*i*i*i*i*i*i*i*i*i for i in x]\n",
    "print(t1)"
   ]
  },
  {
   "cell_type": "code",
   "execution_count": 17,
   "metadata": {},
   "outputs": [
    {
     "data": {
      "text/plain": [
       "<matplotlib.collections.PathCollection at 0x2135e5cbac8>"
      ]
     },
     "execution_count": 17,
     "metadata": {},
     "output_type": "execute_result"
    },
    {
     "data": {
      "image/png": "[encoded data removed]",
      "text/plain": [
       "<Figure size 432x288 with 1 Axes>"
      ]
     },
     "metadata": {},
     "output_type": "display_data"
    }
   ],
   "source": [
    "plt.plot(x,t1)\n",
    "plt.scatter(x,t,marker='.')"
   ]
  },
  {
   "cell_type": "code",
   "execution_count": null,
   "metadata": {},
   "outputs": [],
   "source": []
  }
 ],
 "metadata": {
  "kernelspec": {
   "display_name": "Python 3",
   "language": "python",
   "name": "python3"
  },
  "language_info": {
   "codemirror_mode": {
    "name": "ipython",
    "version": 3
   },
   "file_extension": ".py",
   "mimetype": "text/x-python",
   "name": "python",
   "nbconvert_exporter": "python",
   "pygments_lexer": "ipython3",
   "version": "3.6.5"
  }
 },
 "nbformat": 4,
 "nbformat_minor": 2
}
