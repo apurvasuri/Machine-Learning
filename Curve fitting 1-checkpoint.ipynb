{
 "cells": [
  {
   "cell_type": "code",
   "execution_count": 10,
   "metadata": {},
   "outputs": [],
   "source": [
    "import math\n",
    "import numpy as np\n",
    "import matplotlib.pyplot as plt"
   ]
  },
  {
   "cell_type": "code",
   "execution_count": 11,
   "metadata": {},
   "outputs": [
    {
     "name": "stdout",
     "output_type": "stream",
     "text": [
      "[0.  0.1 0.2 0.3 0.4 0.5 0.6 0.7 0.8 0.9 1. ]\n"
     ]
    }
   ],
   "source": [
    "x = np.linspace(0,1,11)\n",
    "print(x)"
   ]
  },
  {
   "cell_type": "code",
   "execution_count": 12,
   "metadata": {},
   "outputs": [
    {
     "name": "stdout",
     "output_type": "stream",
     "text": [
      "[0.0, 0.5877852522924731, 0.9510565162951535, 0.9510565162951535, 0.5877852522924732, 1.2246467991473532e-16, -0.5877852522924734, -0.9510565162951535, -0.9510565162951536, -0.5877852522924734, -2.4492935982947064e-16]\n"
     ]
    }
   ],
   "source": [
    "t = [math.sin(i*2*math.pi) for i in x]\n",
    "print(t)"
   ]
  },
  {
   "cell_type": "code",
   "execution_count": 13,
   "metadata": {},
   "outputs": [
    {
     "data": {
      "text/plain": [
       "<matplotlib.collections.PathCollection at 0x239d1af2b38>"
      ]
     },
     "execution_count": 13,
     "metadata": {},
     "output_type": "execute_result"
    },
    {
     "data": {
      "image/png": "[encoded data removed]",
      "text/plain": [
       "<Figure size 432x288 with 1 Axes>"
      ]
     },
     "metadata": {},
     "output_type": "display_data"
    }
   ],
   "source": [
    "fig = plt.figure()\n",
    "fig.suptitle('graph')\n",
    "plt.scatter(x,t,marker='.')"
   ]
  },
  {
   "cell_type": "code",
   "execution_count": 15,
   "metadata": {},
   "outputs": [
    {
     "name": "stdout",
     "output_type": "stream",
     "text": [
      "[ 0.15940736 -0.05682452  0.13911395 -0.0444505  -0.1874098  -0.01375664\n",
      " -0.08016582 -0.04049474 -0.2439449  -0.01243049 -0.20251398]\n"
     ]
    }
   ],
   "source": [
    "noise = np.random.normal(0,0.1,x.size)\n",
    "print(noise)"
   ]
  },
  {
   "cell_type": "code",
   "execution_count": 16,
   "metadata": {},
   "outputs": [
    {
     "name": "stdout",
     "output_type": "stream",
     "text": [
      "[ 0.15940736  0.53096073  1.09017046  0.90660601  0.40037546 -0.01375664\n",
      " -0.66795107 -0.99155125 -1.19500142 -0.60021574 -0.20251398]\n"
     ]
    }
   ],
   "source": [
    "t = t+noise\n",
    "print(t)"
   ]
  },
  {
   "cell_type": "code",
   "execution_count": 17,
   "metadata": {},
   "outputs": [
    {
     "data": {
      "text/plain": [
       "<matplotlib.collections.PathCollection at 0x239d21efa58>"
      ]
     },
     "execution_count": 17,
     "metadata": {},
     "output_type": "execute_result"
    },
    {
     "data": {
      "image/png": "[encoded data removed]",
      "text/plain": [
       "<Figure size 432x288 with 1 Axes>"
      ]
     },
     "metadata": {},
     "output_type": "display_data"
    }
   ],
   "source": [
    "plt.scatter(x,t,marker='.')"
   ]
  },
  {
   "cell_type": "code",
   "execution_count": 26,
   "metadata": {},
   "outputs": [],
   "source": [
    "n=len(x)\n",
    "sumx = sum(x)\n",
    "sumx2 = sum(x*x)\n",
    "sumx3 = sum(x*x*x)\n",
    "sumx4 = sum(x*x*x*x)\n",
    "sumx5 = sum(x*x*x*x*x)\n",
    "sumx6 = sum(x*x*x*x*x*x)"
   ]
  },
  {
   "cell_type": "code",
   "execution_count": 27,
   "metadata": {},
   "outputs": [],
   "source": [
    "sumt = sum(t)\n",
    "sumtx = sum(t*x)\n",
    "sumtx2 = sum(t*x*x)\n",
    "sumtx3 = sum(t*x*x*x)"
   ]
  },
  {
   "cell_type": "code",
   "execution_count": 28,
   "metadata": {},
   "outputs": [
    {
     "name": "stdout",
     "output_type": "stream",
     "text": [
      "[[  0.07130665]\n",
      " [  9.76052497]\n",
      " [-30.29666098]\n",
      " [ 20.36079809]]\n"
     ]
    }
   ],
   "source": [
    "A = np.array([[n,sumx,sumx2,sumx3],[sumx,sumx2,sumx3,sumx4],[sumx2,sumx3,sumx4,sumx5],[sumx3,sumx4,sumx5,sumx6]])\n",
    "B = np.array([[sumt],[sumtx],[sumtx2],[sumtx3]])\n",
    "\n",
    "W = np.matmul(np.linalg.inv(A),B);\n",
    "print(W)"
   ]
  },
  {
   "cell_type": "code",
   "execution_count": 29,
   "metadata": {},
   "outputs": [],
   "source": [
    "t1 = [W[0][0] + W[1][0]*i+W[2][0]*i*i + W[3][0]*i*i*i for i in x]"
   ]
  },
  {
   "cell_type": "code",
   "execution_count": 30,
   "metadata": {},
   "outputs": [
    {
     "name": "stdout",
     "output_type": "stream",
     "text": [
      "[0.07130665275838055, 0.7647533376661373, 0.9744315914402939, 0.8225062025908901, 0.43114195962796753, -0.07749634893843549, -0.5812439345982803, -0.9579360088415223, -1.0854077831581215, -0.8414944690380413, -0.10403127797124512]\n"
     ]
    }
   ],
   "source": [
    "print(t1)"
   ]
  },
  {
   "cell_type": "code",
   "execution_count": 31,
   "metadata": {},
   "outputs": [
    {
     "data": {
      "text/plain": [
       "<matplotlib.collections.PathCollection at 0x239d206c828>"
      ]
     },
     "execution_count": 31,
     "metadata": {},
     "output_type": "execute_result"
    },
    {
     "data": {
      "image/png": "[encoded data removed]",
      "text/plain": [
       "<Figure size 432x288 with 1 Axes>"
      ]
     },
     "metadata": {},
     "output_type": "display_data"
    }
   ],
   "source": [
    "plt.plot(x,t1)\n",
    "plt.scatter(x,t,marker='.')"
   ]
  },
  {
   "cell_type": "code",
   "execution_count": null,
   "metadata": {},
   "outputs": [],
   "source": []
  }
 ],
 "metadata": {
  "kernelspec": {
   "display_name": "Python 3",
   "language": "python",
   "name": "python3"
  },
  "language_info": {
   "codemirror_mode": {
    "name": "ipython",
    "version": 3
   },
   "file_extension": ".py",
   "mimetype": "text/x-python",
   "name": "python",
   "nbconvert_exporter": "python",
   "pygments_lexer": "ipython3",
   "version": "3.6.5"
  }
 },
 "nbformat": 4,
 "nbformat_minor": 2
}
